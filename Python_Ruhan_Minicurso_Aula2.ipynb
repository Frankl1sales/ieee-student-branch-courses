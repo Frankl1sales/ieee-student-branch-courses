{
  "nbformat": 4,
  "nbformat_minor": 0,
  "metadata": {
    "colab": {
      "provenance": [],
      "include_colab_link": true
    },
    "kernelspec": {
      "name": "python3",
      "display_name": "Python 3"
    },
    "language_info": {
      "name": "python"
    }
  },
  "cells": [
    {
      "cell_type": "markdown",
      "metadata": {
        "id": "view-in-github",
        "colab_type": "text"
      },
      "source": [
        "<a href=\"https://colab.research.google.com/github/Frankl1sales/ieee-student-branch-courses/blob/main/Python_Ruhan_Minicurso_Aula2.ipynb\" target=\"_parent\"><img src=\"https://colab.research.google.com/assets/colab-badge.svg\" alt=\"Open In Colab\"/></a>"
      ]
    },
    {
      "cell_type": "markdown",
      "source": [
        "#Comparadores Lógicos\n",
        "\n",
        "Python também possui operadores lógicos embutidos que permitem realizar operações de comparação e tomada de decisão com base em condições lógicas.\n",
        "\n",
        "### Operador de igualdade ``==``\n",
        "Verifica se dois valores são iguais\n",
        "```\n",
        "x = 5 == 5  # Retorna True\n",
        "```\n",
        "\n",
        "### Operador de diferença ```!=```\n",
        "Verifica se dois valores são diferentes\n",
        "```\n",
        "x = 5 != 3  # Retorna True\n",
        "```\n",
        "\n",
        "### Operador maior que ```>```\n",
        "Verifica se o valor da esquerda é maior que o da direita\n",
        "```\n",
        "x = 7 > 3  # Retorna True\n",
        "```\n",
        "\n",
        "### Operador menor que ```<```\n",
        "Verifica se o valor da esquerda é menor que o da direita\n",
        "```\n",
        "x = 2 < 5  # Retorna True\n",
        "```\n",
        "\n",
        "### Operador maior ou igual ```>=```\n",
        "Verifica se o valor da esquerda é maior ou igual ao da direita\n",
        "```\n",
        "x = 5 >= 5  # Retorna True\n",
        "```\n",
        "\n",
        "### Operador menor ou igual ```<=```\n",
        "Verifica se o valor da esquerda é menor ou igual ao da direita\n",
        "```\n",
        "x = 3 <= 4  # Retorna True\n",
        "```"
      ],
      "metadata": {
        "id": "-up6014STus5"
      }
    },
    {
      "cell_type": "markdown",
      "source": [
        "\n",
        "---\n",
        "**EXEMPLOS**\n",
        "\n",
        "Execute o código abaixo e observe as saídas!"
      ],
      "metadata": {
        "id": "SXiRUR07VMzz"
      }
    },
    {
      "cell_type": "code",
      "source": [
        "x = 5\n",
        "y = 10\n",
        "\n",
        "print(f\"{x} == {y}:\", x == y)\n",
        "print(f\"{x} != {y}:\", x != y)\n",
        "print(f\"{x} > {y}:\", x > y)\n",
        "print(f\"{x} < {y}:\", x < y)\n",
        "print(f\"{x} >= {y}:\", x >= y)\n",
        "print(f\"{x} <= {y}:\", x <= y)"
      ],
      "metadata": {
        "id": "m1Z4KflVUmvG",
        "outputId": "8c5db48d-ea7b-4f92-dd43-1fd400a4f574",
        "colab": {
          "base_uri": "https://localhost:8080/"
        }
      },
      "execution_count": null,
      "outputs": [
        {
          "output_type": "stream",
          "name": "stdout",
          "text": [
            "5 == 10: False\n",
            "5 != 10: True\n",
            "5 > 10: False\n",
            "5 < 10: True\n",
            "5 >= 10: False\n",
            "5 <= 10: True\n"
          ]
        }
      ]
    },
    {
      "cell_type": "markdown",
      "source": [
        "# Comparadores Lógicos\n",
        "\n",
        "> Em Python, existem três operadores lógicos principais: **and** (e), **or** (ou) e **not** (não). Esses operadores são utilizados para combinar expressões lógicas e avaliar condições complexas.\n",
        "\n",
        "\n",
        "\n",
        "\n",
        "### Operador ```and```\n",
        "Retorna ```True``` se ambas as condições forem verdadeiras\n",
        "\n",
        "```\n",
        "x = True and False  # Retorna False\n",
        "```\n",
        "\n",
        "### Operador ```or```\n",
        "Retorna True se pelo menos uma das condições for verdadeira\n",
        "\n",
        "```\n",
        "x = True or False  # Retorna True\n",
        "```\n",
        "\n",
        "### Operador ```not```\n",
        "Inverte o valor lógico de uma condição\n",
        "```\n",
        "x = not True  # Retorna False\n",
        "```"
      ],
      "metadata": {
        "id": "4B4uqBtSVmxa"
      }
    },
    {
      "cell_type": "code",
      "source": [
        "print(\"Tabela Verdade do operandor NOT\")\n",
        "print(\"not True:\", not True)\n",
        "print(\"not False:\", not False)\n",
        "\n",
        "print(\"\\nTabela Verdade do operandor AND\")\n",
        "print(\"True and True:\", True and True)\n",
        "print(\"True and False:\", True and False)\n",
        "print(\"False and True:\", False and True)\n",
        "print(\"False and False:\", False and False)\n",
        "\n",
        "print(\"\\nTabela Verdade do operandor OR\")\n",
        "print(\"True or True:\", True or True)\n",
        "print(\"True or False:\", True or False)\n",
        "print(\"False or True:\", False or True)\n",
        "print(\"False or False:\", False or False)"
      ],
      "metadata": {
        "id": "mvKEHxqnhzxA",
        "colab": {
          "base_uri": "https://localhost:8080/"
        },
        "outputId": "b8dcd853-16a0-4341-9e97-d8b2511e0f72"
      },
      "execution_count": null,
      "outputs": [
        {
          "output_type": "stream",
          "name": "stdout",
          "text": [
            "Tabela Verdade do operandor NOT\n",
            "not True: False\n",
            "not False: True\n",
            "\n",
            "Tabela Verdade do operandor AND\n",
            "True and True: True\n",
            "True and False: False\n",
            "False and True: False\n",
            "False and False: False\n",
            "\n",
            "Tabela Verdade do operandor OR\n",
            "True or True: True\n",
            "True or False: True\n",
            "False or True: True\n",
            "False or False: False\n"
          ]
        }
      ]
    },
    {
      "cell_type": "markdown",
      "source": [
        "# Condicionais\n",
        "\n",
        "> Os condicionais em Python são estruturas de controle que permitem executar blocos de código dependendo de uma condição. Existem dois tipos principais de condicionais em Python: if e if-else.\n"
      ],
      "metadata": {
        "id": "eUCEgbCMWLsz"
      }
    },
    {
      "cell_type": "markdown",
      "source": [
        "\n",
        "\n",
        "---\n",
        "**EXEMPLOS:**\n"
      ],
      "metadata": {
        "id": "227Y_NMnW6qS"
      }
    },
    {
      "cell_type": "markdown",
      "source": [
        "No código abaixo, somente a palavra \"**Verdadeiro**\" será impressa na tela."
      ],
      "metadata": {
        "id": "gCvBUzLRWkrY"
      }
    },
    {
      "cell_type": "code",
      "source": [
        "if True:\n",
        "  print(\"Verdadeiro\")\n",
        "\n",
        "if False:\n",
        "  print(\"Nunca será executado\")"
      ],
      "metadata": {
        "id": "1MMH6nyVWZq5",
        "colab": {
          "base_uri": "https://localhost:8080/"
        },
        "outputId": "732603c9-4503-4d96-ecc9-1cdbd72f9179"
      },
      "execution_count": null,
      "outputs": [
        {
          "output_type": "stream",
          "name": "stdout",
          "text": [
            "Verdadeiro\n"
          ]
        }
      ]
    },
    {
      "cell_type": "markdown",
      "source": [
        "*No código abaixo, será impresso na tela: \"Você é maior de idade\", pois 32 é maior ou igual a 18.*"
      ],
      "metadata": {
        "id": "lmS7Sl87Wry5"
      }
    },
    {
      "cell_type": "code",
      "source": [
        "idade = 32\n",
        "if idade >= 18:\n",
        "  print(\"Você é maior de idade!\")\n",
        "else:\n",
        "  print(\"Você é menor de idade!\")"
      ],
      "metadata": {
        "id": "h340OqTzWKqW",
        "colab": {
          "base_uri": "https://localhost:8080/"
        },
        "outputId": "56c6ef71-80e4-4830-db05-e43cca342559"
      },
      "execution_count": null,
      "outputs": [
        {
          "output_type": "stream",
          "name": "stdout",
          "text": [
            "Você é maior de idade!\n"
          ]
        }
      ]
    },
    {
      "cell_type": "markdown",
      "source": [
        "No código abaixo, será impresso na tela: \"Você é menor de idade\", pois 5 **não é** maior nem igual a 18."
      ],
      "metadata": {
        "id": "qcoeppxgXA-x"
      }
    },
    {
      "cell_type": "code",
      "source": [
        "idade = 5\n",
        "if idade >= 18:\n",
        "  print(\"Você é maior de idade!\")\n",
        "else:\n",
        "  print(\"Você é menor de idade!\")"
      ],
      "metadata": {
        "id": "JKXAGuYvVpP4",
        "colab": {
          "base_uri": "https://localhost:8080/"
        },
        "outputId": "9bbaa133-80e4-48dc-b51c-63825ba03b2e"
      },
      "execution_count": null,
      "outputs": [
        {
          "output_type": "stream",
          "name": "stdout",
          "text": [
            "Você é menor de idade!\n"
          ]
        }
      ]
    },
    {
      "cell_type": "markdown",
      "source": [
        "\n",
        "\n",
        "---\n",
        "\n",
        "\n",
        "**AGORA É COM VOCÊ:**\n",
        "Faça um programa que leia um número e informe se ele é par ou ímpar.\n",
        "\n",
        "Lembre-se que:\n",
        "1.   O resto da divisão entre um número ímpar e 2 é igual a 1\n",
        "2.   O resto da divisão entre um número par e 2 é igual a 0\n",
        "3.   O operador ```%``` realiza o resto da divisão\n",
        "\n"
      ],
      "metadata": {
        "id": "xu_MILdMYk5J"
      }
    },
    {
      "cell_type": "code",
      "source": [
        "## EXERCÍCIO 1\n",
        "# Substitua os \"None\" pelo seu código\n",
        "\n",
        "num = int(input(\"Digite um número: \"))  # Substitua 'None' pelo valor do número\n",
        "\n",
        "if num % 2 == 0:  # Verifica se o número é par\n",
        "  print(f\"{num} é um número par\")\n",
        "else:\n",
        "  print(f\"{num} é um número ímpar\")"
      ],
      "metadata": {
        "id": "RT3cdYy8Y939",
        "colab": {
          "base_uri": "https://localhost:8080/"
        },
        "outputId": "a91eaf3e-869e-4176-a4a8-34a8bdd6a4ff"
      },
      "execution_count": null,
      "outputs": [
        {
          "output_type": "stream",
          "name": "stdout",
          "text": [
            "Digite um número: 5\n",
            "5 é um número ímpar\n"
          ]
        }
      ]
    },
    {
      "cell_type": "markdown",
      "source": [
        "\n",
        "---\n",
        "**OUTRO EXERCÍCIO**\n",
        "Faça um programa que leia dois números e informe qual é o maior"
      ],
      "metadata": {
        "id": "2gcXmfoWX9Hl"
      }
    },
    {
      "cell_type": "code",
      "source": [
        "## EXERCÍCIO 2\n",
        "# Substitua os \"None\" pelo seu código\n",
        "\n",
        "\n",
        "num1 = float(input(\"Digite o primeiro número: \"))\n",
        "num2 = float(input(\"Digite o segundo número: \"))\n",
        "\n",
        "# Verifica qual número é maior ou se são iguais\n",
        "if num1 > num2:\n",
        "  print(f\"O maior número é {num1}\")\n",
        "elif num1 < num2:  # elif verifica se num2 é maior que num1\n",
        "  print(f\"O maior número é {num2}\")\n",
        "else:\n",
        "  print(\"Os números são iguais\")\n"
      ],
      "metadata": {
        "id": "8qRFDRtsYHSy",
        "colab": {
          "base_uri": "https://localhost:8080/"
        },
        "outputId": "452ab4ce-45a0-40b9-da0f-0d62b9ae3ae6"
      },
      "execution_count": null,
      "outputs": [
        {
          "output_type": "stream",
          "name": "stdout",
          "text": [
            "Digite o primeiro número: 7\n",
            "Digite o segundo número: 9\n",
            "O maior número é 9.0\n"
          ]
        }
      ]
    },
    {
      "cell_type": "code",
      "source": [
        "# Solicita a idade do eleitor\n",
        "idade = int(input(\"Digite a idade do eleitor: \"))\n",
        "\n",
        "# Verifica as condições de voto\n",
        "if idade < 16:\n",
        "    print(\"Não pode votar.\")\n",
        "elif 16 <= idade <= 17 or idade >= 70:\n",
        "    print(\"Voto facultativo.\")\n",
        "elif 18 <= idade <= 69:\n",
        "    print(\"Voto obrigatório.\")\n"
      ],
      "metadata": {
        "colab": {
          "base_uri": "https://localhost:8080/"
        },
        "id": "Sw2l_OAxzpsn",
        "outputId": "362adb21-40be-4c20-c453-a8b8f1255f3b"
      },
      "execution_count": null,
      "outputs": [
        {
          "output_type": "stream",
          "name": "stdout",
          "text": [
            "Digite a idade do eleitor: 14\n",
            "Não pode votar.\n"
          ]
        }
      ]
    },
    {
      "cell_type": "code",
      "source": [
        "# Solicita a idade do eleitor\n",
        "idade = int(input(\"Digite a idade do eleitor: \"))\n",
        "\n",
        "# Verifica as condições de voto\n",
        "if idade >= 18 and idade < 70:\n",
        "    print(\"Voto obrigatório.\")\n",
        "elif idade >= 16 and idade < 18 or idade >= 70:\n",
        "    print(\"Voto facultativo.\")\n",
        "else:\n",
        "    print(\"Não pode votar.\")\n"
      ],
      "metadata": {
        "colab": {
          "base_uri": "https://localhost:8080/"
        },
        "id": "3pJcvnBR1J_h",
        "outputId": "8e6396ec-56bb-467e-e7c9-b20e2126d5ef"
      },
      "execution_count": null,
      "outputs": [
        {
          "output_type": "stream",
          "name": "stdout",
          "text": [
            "Digite a idade do eleitor: 14\n",
            "Não pode votar.\n"
          ]
        }
      ]
    },
    {
      "cell_type": "markdown",
      "source": [
        "# Laços de Repetição\n",
        "\n",
        "> Em Python, existem dois principais tipos de laços de repetição: o for e o while. Ambos permitem executar um bloco de código várias vezes, mas possuem estruturas e usos diferentes."
      ],
      "metadata": {
        "id": "XBsBrlYeZ0G6"
      }
    },
    {
      "cell_type": "markdown",
      "source": [
        "## Laço ```for```\n",
        "O laço for é utilizado quando sabemos o número de iterações que queremos executar. Ele percorre uma sequência (como uma lista, uma string, um intervalo numérico, etc.) e executa o bloco de código para cada elemento dessa sequência."
      ],
      "metadata": {
        "id": "kGoG6JWvbEvG"
      }
    },
    {
      "cell_type": "code",
      "source": [
        "frutas = [\"maçã\", \"banana\", \"laranja\"]\n",
        "for fruta in frutas:\n",
        "  print(fruta)"
      ],
      "metadata": {
        "id": "sHzLNJjKZ2Vx",
        "colab": {
          "base_uri": "https://localhost:8080/"
        },
        "outputId": "b0a92210-53af-4e6d-a6ff-56ee1cf76be0"
      },
      "execution_count": null,
      "outputs": [
        {
          "output_type": "stream",
          "name": "stdout",
          "text": [
            "maçã\n",
            "banana\n",
            "laranja\n"
          ]
        }
      ]
    },
    {
      "cell_type": "code",
      "source": [
        "for i in range(1, 11):\n",
        "  print(i, end=\" \")"
      ],
      "metadata": {
        "id": "ePSGhQMOaRob",
        "colab": {
          "base_uri": "https://localhost:8080/"
        },
        "outputId": "b6ac6bf5-e2b9-4e09-ab84-48b128823aa4"
      },
      "execution_count": null,
      "outputs": [
        {
          "output_type": "stream",
          "name": "stdout",
          "text": [
            "1 2 3 4 5 6 7 8 9 10 "
          ]
        }
      ]
    },
    {
      "cell_type": "code",
      "source": [
        "for c in \"Minicurso de Python\" :\n",
        "  print(c)"
      ],
      "metadata": {
        "id": "c8DvyvUMaZUJ",
        "colab": {
          "base_uri": "https://localhost:8080/"
        },
        "outputId": "99c798ab-3b48-4f2d-f600-982e97bea05c"
      },
      "execution_count": null,
      "outputs": [
        {
          "output_type": "stream",
          "name": "stdout",
          "text": [
            "M\n",
            "i\n",
            "n\n",
            "i\n",
            "c\n",
            "u\n",
            "r\n",
            "s\n",
            "o\n",
            " \n",
            "d\n",
            "e\n",
            " \n",
            "P\n",
            "y\n",
            "t\n",
            "h\n",
            "o\n",
            "n\n"
          ]
        }
      ]
    },
    {
      "cell_type": "markdown",
      "source": [
        "## Laço ```while```\n",
        "O laço while é utilizado quando não sabemos o número exato de iterações que queremos executar. Ele repete o bloco de código enquanto uma condição específica for verdadeira.\n"
      ],
      "metadata": {
        "id": "ine5DYgIam8J"
      }
    },
    {
      "cell_type": "code",
      "source": [
        "n = 1\n",
        "while n != 0:\n",
        "  n = int(input(\"Digite um número: \"))\n",
        "  print(f\"Você digitou {n}\")"
      ],
      "metadata": {
        "id": "cFuA3zT7ah2s",
        "colab": {
          "base_uri": "https://localhost:8080/"
        },
        "outputId": "69998ade-45a9-488b-f96a-75ad77fb1faa"
      },
      "execution_count": null,
      "outputs": [
        {
          "output_type": "stream",
          "name": "stdout",
          "text": [
            "Digite um número: 7\n",
            "Você digitou 7\n",
            "Digite um número: 9\n",
            "Você digitou 9\n",
            "Digite um número: 1\n",
            "Você digitou 1\n",
            "Digite um número: 0\n",
            "Você digitou 0\n"
          ]
        }
      ]
    },
    {
      "cell_type": "markdown",
      "source": [
        "\n",
        "\n",
        "---\n",
        "\n",
        "\n",
        "**EXEMPLO:** \\\\\n",
        "Crie um programa que solicite ao usuário um número e exiba a tabuada desse número utilizando um laço de repetição."
      ],
      "metadata": {
        "id": "Mdzy80dlcAYS"
      }
    },
    {
      "cell_type": "code",
      "source": [
        "numero = int(input(\"Digite um número: \"))\n",
        "for i in range(1, 11):\n",
        "  print(f\"{numero} x {i} = {numero * i}\")"
      ],
      "metadata": {
        "id": "rjIz473Ib_4v",
        "colab": {
          "base_uri": "https://localhost:8080/"
        },
        "outputId": "2de84a1d-4cd6-401b-f1a6-783a087e7912"
      },
      "execution_count": null,
      "outputs": [
        {
          "output_type": "stream",
          "name": "stdout",
          "text": [
            "Digite um número: 9\n",
            "9 x 1 = 9\n",
            "9 x 2 = 18\n",
            "9 x 3 = 27\n",
            "9 x 4 = 36\n",
            "9 x 5 = 45\n",
            "9 x 6 = 54\n",
            "9 x 7 = 63\n",
            "9 x 8 = 72\n",
            "9 x 9 = 81\n",
            "9 x 10 = 90\n"
          ]
        }
      ]
    },
    {
      "cell_type": "markdown",
      "source": [
        "**EXEMPLO:** \\\\\n",
        "Escreva um programa que solicite ao usuário um número N e diga se o mesmo é primo ou não."
      ],
      "metadata": {
        "id": "naAz5PKfcNLO"
      }
    },
    {
      "cell_type": "code",
      "source": [
        "numero = int(input(\"Digite um número: \"))\n",
        "primo = True\n",
        "\n",
        "for i in range(2, numero):\n",
        "  if numero % i == 0:\n",
        "    primo = False\n",
        "    break # O que faz esse BREAK?\n",
        "\n",
        "if primo:\n",
        "  print(f\"{numero} é primo\")\n",
        "else:\n",
        "  print(f\"{numero} não é primo\")"
      ],
      "metadata": {
        "id": "lQNjuv_Ucbf1",
        "colab": {
          "base_uri": "https://localhost:8080/"
        },
        "outputId": "55624a8d-802f-4c57-edcf-724584deb403"
      },
      "execution_count": null,
      "outputs": [
        {
          "output_type": "stream",
          "name": "stdout",
          "text": [
            "Digite um número: 9\n",
            "9 não é primo\n"
          ]
        }
      ]
    },
    {
      "cell_type": "markdown",
      "source": [
        "# Aplicações nas Ciências e Engenharias\n",
        "\n",
        "Vamos ver algumas bibliotecas muito interessantes de Python.\n",
        "\n",
        "A partir deste ponto vamos ver algumas aplicações práticas, sem entrar ao fundo na funcionalidade das mesmas.\n",
        "\n"
      ],
      "metadata": {
        "id": "5Z7kehFCc-mo"
      }
    },
    {
      "cell_type": "markdown",
      "source": [
        "## Biblioteca Numpy\n",
        "\n",
        "NumPy (Numerical Python) é uma biblioteca fundamental para computação científica em Python, especialmente em operações com arrays multidimensionais e álgebra linear.\n",
        "\n",
        "Para utilizar o numpy, é obrigatório realizar a importação:"
      ],
      "metadata": {
        "id": "aU89Du61dkXb"
      }
    },
    {
      "cell_type": "code",
      "source": [
        "import numpy as np\n"
      ],
      "metadata": {
        "id": "QYhPMhPxeiyI"
      },
      "execution_count": null,
      "outputs": []
    },
    {
      "cell_type": "code",
      "source": [
        "# Criando um array de 1 dimensão\n",
        "array_1d = np.array([1, 2, 3, 4])\n",
        "\n",
        "# Criando um array de 2 dimensões (matriz)\n",
        "array_2d = np.array([[1, 2], [3, 4]])\n",
        "\n",
        "print(\"array_1d:\")\n",
        "print(array_1d)\n",
        "print()\n",
        "print(\"array_2d:\")\n",
        "print(array_2d)\n"
      ],
      "metadata": {
        "id": "vbpxk_XVdD3Y",
        "colab": {
          "base_uri": "https://localhost:8080/"
        },
        "outputId": "685cf2d0-d470-472b-b852-75c0b12833a1"
      },
      "execution_count": null,
      "outputs": [
        {
          "output_type": "stream",
          "name": "stdout",
          "text": [
            "array_1d:\n",
            "[1 2 3 4]\n",
            "\n",
            "array_2d:\n",
            "[[1 2]\n",
            " [3 4]]\n"
          ]
        }
      ]
    },
    {
      "cell_type": "markdown",
      "source": [
        "### Criação de Arrays\n",
        "O NumPy permite criar arrays de várias formas:"
      ],
      "metadata": {
        "id": "dMJ40bE0eVNP"
      }
    },
    {
      "cell_type": "code",
      "source": [
        "# Array a partir de uma lista\n",
        "array = np.array([1, 2, 3])\n",
        "print(\"Array a partir de uma lista:\", array)\n",
        "\n",
        "# Array de zeros\n",
        "zeros = np.zeros((3, 3))\n",
        "print(\"\\nArray de zeros:\")\n",
        "print(zeros)\n",
        "\n",
        "# Array de uns\n",
        "ones = np.ones((2, 2))\n",
        "print(\"\\nArray de uns:\")\n",
        "print(ones)\n",
        "\n",
        "# Array de números aleatórios\n",
        "random = np.random.random((3, 3))\n",
        "print(\"\\nArray de números aleatórios:\")\n",
        "print(random)\n",
        "\n",
        "# Array com intervalo definido (range)\n",
        "arange = np.arange(0, 10, 2)\n",
        "print(\"\\nArray com intervalo definido:\")\n",
        "print(arange)\n",
        "\n",
        "# Array linearmente espaçado\n",
        "linspace = np.linspace(0, 1, 5)\n",
        "print(\"\\nArray linearmente espaçado:\")\n",
        "print(linspace)\n"
      ],
      "metadata": {
        "id": "yAK6i4VXebzO",
        "colab": {
          "base_uri": "https://localhost:8080/"
        },
        "outputId": "7fa08afe-749a-4fe4-a261-3490cfd95788"
      },
      "execution_count": null,
      "outputs": [
        {
          "output_type": "stream",
          "name": "stdout",
          "text": [
            "Array a partir de uma lista: [1 2 3]\n",
            "\n",
            "Array de zeros:\n",
            "[[0. 0. 0.]\n",
            " [0. 0. 0.]\n",
            " [0. 0. 0.]]\n",
            "\n",
            "Array de uns:\n",
            "[[1. 1.]\n",
            " [1. 1.]]\n",
            "\n",
            "Array de números aleatórios:\n",
            "[[0.91680839 0.03201989 0.88167302]\n",
            " [0.89714047 0.63800904 0.79820061]\n",
            " [0.61087093 0.07517158 0.56667542]]\n",
            "\n",
            "Array com intervalo definido:\n",
            "[0 2 4 6 8]\n",
            "\n",
            "Array linearmente espaçado:\n",
            "[0.   0.25 0.5  0.75 1.  ]\n"
          ]
        }
      ]
    },
    {
      "cell_type": "markdown",
      "source": [
        "### Operações Matemáticas\n",
        "\n",
        "Operações matemáticas básicas podem ser realizadas diretamente nos arrays:"
      ],
      "metadata": {
        "id": "hTqxHwK7eztI"
      }
    },
    {
      "cell_type": "code",
      "source": [
        "# Adição, subtração, multiplicação e divisão elemento a elemento\n",
        "a = np.array([1, 2, 3])\n",
        "b = np.array([4, 5, 6])\n",
        "\n",
        "soma = a + b\n",
        "print(\"Soma:\", soma)\n",
        "\n",
        "subtracao = a - b\n",
        "print(\"Subtração:\", subtracao)\n",
        "\n",
        "multiplicacao = a * b\n",
        "print(\"Multiplicação:\", multiplicacao)\n",
        "\n",
        "divisao = a / b\n",
        "print(\"Divisão:\", divisao)\n"
      ],
      "metadata": {
        "id": "4waEaAa4esoT",
        "colab": {
          "base_uri": "https://localhost:8080/"
        },
        "outputId": "3d61f120-ba4f-485a-e680-145859c4ae67"
      },
      "execution_count": null,
      "outputs": [
        {
          "output_type": "stream",
          "name": "stdout",
          "text": [
            "Soma: [5 7 9]\n",
            "Subtração: [-3 -3 -3]\n",
            "Multiplicação: [ 4 10 18]\n",
            "Divisão: [0.25 0.4  0.5 ]\n"
          ]
        }
      ]
    },
    {
      "cell_type": "markdown",
      "source": [
        "### Operações Estatísticas\n",
        "\n",
        "NumPy facilita cálculos estatísticos:\n"
      ],
      "metadata": {
        "id": "LnODH_qcfC6N"
      }
    },
    {
      "cell_type": "code",
      "source": [
        "array = np.array([1, 2, 3, 4, 5])\n",
        "\n",
        "soma = np.sum(array)\n",
        "print(\"Soma:\", soma)\n",
        "\n",
        "media = np.mean(array)\n",
        "print(\"Média:\", media)\n",
        "\n",
        "maximo = np.max(array)\n",
        "print(\"Máximo:\", maximo)\n",
        "\n",
        "minimo = np.min(array)\n",
        "print(\"Mínimo:\", minimo)\n",
        "\n",
        "mediana = np.median(array)\n",
        "print(\"Mediana:\", mediana)\n",
        "\n",
        "desvio_padrao = np.std(array)\n",
        "print(\"Desvio Padrão:\", desvio_padrao)\n"
      ],
      "metadata": {
        "id": "8SrmFH8fe-1n",
        "colab": {
          "base_uri": "https://localhost:8080/"
        },
        "outputId": "cd333202-86e3-47d5-f49f-3c1558ea27fb"
      },
      "execution_count": null,
      "outputs": [
        {
          "output_type": "stream",
          "name": "stdout",
          "text": [
            "Soma: 15\n",
            "Média: 3.0\n",
            "Máximo: 5\n",
            "Mínimo: 1\n",
            "Mediana: 3.0\n",
            "Desvio Padrão: 1.4142135623730951\n"
          ]
        }
      ]
    },
    {
      "cell_type": "markdown",
      "source": [
        "### Operações com Matrizes\n",
        "Manipulação de matrizes é uma das forças do NumPy:"
      ],
      "metadata": {
        "id": "DuwTcUX2fVi-"
      }
    },
    {
      "cell_type": "code",
      "source": [
        "# Produto de matrizes\n",
        "matriz1 = np.array([[1, 2], [3, 4]])\n",
        "matriz2 = np.array([[5, 6], [7, 8]])\n",
        "\n",
        "produto = np.dot(matriz1, matriz2)\n",
        "print(\"Produto de Matrizes:\")\n",
        "print(produto)\n"
      ],
      "metadata": {
        "id": "onyGEF5FfH4W",
        "colab": {
          "base_uri": "https://localhost:8080/"
        },
        "outputId": "3d93fa87-cfa8-4f84-81aa-11f6122690c9"
      },
      "execution_count": null,
      "outputs": [
        {
          "output_type": "stream",
          "name": "stdout",
          "text": [
            "Produto de Matrizes:\n",
            "[[19 22]\n",
            " [43 50]]\n"
          ]
        }
      ]
    },
    {
      "cell_type": "markdown",
      "source": [
        "### Indexação e Fatiamento (*Slicing*) de Arrays\n",
        "Você pode acessar elementos específicos e fatias de arrays."
      ],
      "metadata": {
        "id": "kBqFCdaQfjkP"
      }
    },
    {
      "cell_type": "code",
      "source": [
        "array = np.array([1, 2, 3, 4, 5])\n",
        "\n",
        "# Acessar o elemento no índice 2\n",
        "elemento = array[2]\n",
        "print(\"Elemento no índice 2:\", elemento)\n",
        "\n",
        "# Fatiar um array (do índice 1 ao 3)\n",
        "subarray = array[1:4]\n",
        "print(\"Subarray:\", subarray)\n",
        "\n",
        "# Acessar elementos em arrays 2D\n",
        "array_2d = np.array([[1, 2, 3], [4, 5, 6]])\n",
        "elemento_2d = array_2d[1, 2]  # Linha 1, coluna 2\n",
        "print(\"Elemento 2D:\", elemento_2d)\n"
      ],
      "metadata": {
        "id": "dhTfI3P9fjOX",
        "colab": {
          "base_uri": "https://localhost:8080/"
        },
        "outputId": "bc6f2e13-8dac-45ea-c0ab-e9c6f2a227c2"
      },
      "execution_count": null,
      "outputs": [
        {
          "output_type": "stream",
          "name": "stdout",
          "text": [
            "Elemento no índice 2: 3\n",
            "Subarray: [2 3 4]\n",
            "Elemento 2D: 6\n"
          ]
        }
      ]
    },
    {
      "cell_type": "markdown",
      "source": [
        "### Transposição de Matrizes"
      ],
      "metadata": {
        "id": "2ieVJbUIgBjJ"
      }
    },
    {
      "cell_type": "code",
      "source": [
        "matriz = np.array([[1, 2], [3, 4]])\n",
        "print(\"Matriz:\")\n",
        "print(matriz)\n",
        "\n",
        "transposta = matriz.T\n",
        "print(\"\\nTransposta:\")\n",
        "print(transposta)\n"
      ],
      "metadata": {
        "id": "Q-mUfiqyfdRm",
        "colab": {
          "base_uri": "https://localhost:8080/"
        },
        "outputId": "90d813ba-a17d-42e2-b04f-b81d5d36dc63"
      },
      "execution_count": null,
      "outputs": [
        {
          "output_type": "stream",
          "name": "stdout",
          "text": [
            "Matriz:\n",
            "[[1 2]\n",
            " [3 4]]\n",
            "\n",
            "Transposta:\n",
            "[[1 3]\n",
            " [2 4]]\n"
          ]
        }
      ]
    },
    {
      "cell_type": "markdown",
      "source": [
        "## Scipy\n",
        "\n",
        "SciPy é uma biblioteca de código aberto em Python amplamente utilizada para computação científica e engenharia. Ela é construída sobre o NumPy e fornece uma coleção abrangente de algoritmos matemáticos e funções avançadas que facilitam o trabalho com cálculos científicos e operações numéricas complexas."
      ],
      "metadata": {
        "id": "elBqUIEgi5B-"
      }
    },
    {
      "cell_type": "markdown",
      "source": [
        "### Álgebra Linear\n",
        "SciPy possui uma coleção completa de operações de álgebra linear, como decomposição de matrizes, solução de sistemas lineares e cálculo de determinantes."
      ],
      "metadata": {
        "id": "asAw0VFNi_kY"
      }
    },
    {
      "cell_type": "code",
      "source": [
        "from scipy import linalg\n",
        "import numpy as np\n",
        "\n",
        "#Resolver um sistema linear: Ax + b\n",
        "\n",
        "A = np.array([[3, 2], [1, 4]])\n",
        "b = np.array([5, 6])\n",
        "\n",
        "print(f\"{A[0,0]} * x1 + {A[0,1]} * x2 = {b[0]}\")\n",
        "print(f\"{A[1,0]} * x1 + {A[1,1]} * x2 = {b[1]}\")\n",
        "\n",
        "x = linalg.solve(A, b)\n",
        "print(f\"x1={x[0]:.2f}, x2={x[1]:.2f} \")  # Solução do sistema"
      ],
      "metadata": {
        "id": "quk5f-7RjFUq",
        "colab": {
          "base_uri": "https://localhost:8080/"
        },
        "outputId": "4769f3ea-3451-47c3-bd2d-3abb22029789"
      },
      "execution_count": null,
      "outputs": [
        {
          "output_type": "stream",
          "name": "stdout",
          "text": [
            "3 * x1 + 2 * x2 = 5\n",
            "1 * x1 + 4 * x2 = 6\n",
            "x1=0.80, x2=1.30 \n"
          ]
        }
      ]
    },
    {
      "cell_type": "markdown",
      "source": [
        "### Integração e Equações Diferenciais\n",
        "SciPy oferece ferramentas para integrar funções e resolver equações diferenciais ordinárias (EDOs).\n"
      ],
      "metadata": {
        "id": "03-qIcL8jY5b"
      }
    },
    {
      "cell_type": "code",
      "source": [
        "from scipy import integrate\n",
        "#Exemplo: Integração de uma função\n",
        "\n",
        "# Definir a função\n",
        "f = lambda x: x**2 + 2*x + 1\n",
        "\n",
        "# Integrar a função de 0 a 1\n",
        "result, error = integrate.quad(f, 0, 1)\n",
        "print(result)  # Valor da integral\n"
      ],
      "metadata": {
        "id": "kOZOhmbbjgBq",
        "colab": {
          "base_uri": "https://localhost:8080/"
        },
        "outputId": "8bdaef53-2475-4032-9178-c8d4d2a00ba4"
      },
      "execution_count": null,
      "outputs": [
        {
          "output_type": "stream",
          "name": "stdout",
          "text": [
            "2.3333333333333335\n"
          ]
        }
      ]
    },
    {
      "cell_type": "markdown",
      "source": [
        "### Otimização de Funções\n",
        "SciPy contém várias ferramentas para resolver problemas de otimização, como a minimização de funções, ajuste de curvas e busca de raízes.\n",
        "\n"
      ],
      "metadata": {
        "id": "dBhGbo9wjsxn"
      }
    },
    {
      "cell_type": "code",
      "source": [
        "from scipy.optimize import minimize\n",
        "\n",
        "# Definir a função a ser minimizada\n",
        "f = lambda x: x**2 + 5*np.sin(x)\n",
        "\n",
        "# Encontrar o mínimo da função\n",
        "result = minimize(f, 0)\n",
        "print(result.x)  # Ponto onde ocorre o mínimo\n"
      ],
      "metadata": {
        "id": "BpyZdQKFjyPZ",
        "colab": {
          "base_uri": "https://localhost:8080/"
        },
        "outputId": "b17a912f-ce5d-4b6d-d2ab-3dab16c9f154"
      },
      "execution_count": null,
      "outputs": [
        {
          "output_type": "stream",
          "name": "stdout",
          "text": [
            "[-1.11051052]\n"
          ]
        }
      ]
    },
    {
      "cell_type": "markdown",
      "source": [
        "## Matplotlib\n",
        "Matplotlib é uma biblioteca de visualização de dados em Python, amplamente utilizada para criar gráficos e figuras de alta qualidade. Ela permite gerar uma variedade de gráficos, como gráficos de linha, dispersão, barras, histogramas, entre outros, de maneira simples e eficiente. Com Matplotlib, você pode personalizar os gráficos de acordo com suas necessidades, incluindo títulos, rótulos de eixos, cores, estilos de linha, entre outros elementos gráficos.\n"
      ],
      "metadata": {
        "id": "77IaoEfAgUSw"
      }
    },
    {
      "cell_type": "markdown",
      "source": [
        "### Gráfico de Linha Simples\n",
        "Neste exemplo, usamos o NumPy para gerar dados e o Matplotlib para traçar uma linha entre eles."
      ],
      "metadata": {
        "id": "uwxyowSvgbkJ"
      }
    },
    {
      "cell_type": "code",
      "source": [
        "import numpy as np\n",
        "import matplotlib.pyplot as plt\n",
        "\n",
        "# Gerar dados de exemplo\n",
        "x = np.linspace(-10, 10, 100)\n",
        "y = np.power(x, 2) +  5*np.sin(x)\n",
        "\n",
        "# Criar gráfico de linha\n",
        "plt.plot(x, y)\n",
        "plt.title(\"Gráfico de Linha\")\n",
        "plt.xlabel(\"x\")\n",
        "plt.ylabel(\"sin(x)\")\n",
        "plt.grid()\n",
        "plt.show()\n"
      ],
      "metadata": {
        "id": "uSE-qN-EgJZX",
        "colab": {
          "base_uri": "https://localhost:8080/",
          "height": 492
        },
        "outputId": "59f0b86a-fbda-4598-e99c-2826c4cc18d1"
      },
      "execution_count": null,
      "outputs": [
        {
          "output_type": "display_data",
          "data": {
            "text/plain": [
              "<Figure size 640x480 with 1 Axes>"
            ],
            "image/png": "[encoded data removed]"
          },
          "metadata": {}
        }
      ]
    },
    {
      "cell_type": "markdown",
      "source": [
        "### Gráfico de Dispersão (Scatter Plot)\n",
        "\n",
        "Agora, vamos gerar pontos aleatórios e representá-los como um gráfico de dispersão.\n",
        "\n"
      ],
      "metadata": {
        "id": "7b5L4Pb1gmXo"
      }
    },
    {
      "cell_type": "code",
      "source": [
        "# Gerar dados aleatórios\n",
        "x = np.random.rand(50)\n",
        "y = np.random.rand(50)\n",
        "\n",
        "# Criar gráfico de dispersão\n",
        "plt.scatter(x, y, color='r')\n",
        "plt.title(\"Gráfico de Dispersão\")\n",
        "plt.xlabel(\"x\")\n",
        "plt.ylabel(\"y\")\n",
        "plt.show()\n"
      ],
      "metadata": {
        "id": "9AX_0H6Sgi0K",
        "colab": {
          "base_uri": "https://localhost:8080/",
          "height": 492
        },
        "outputId": "8db1259a-66d0-4515-e5e6-ae11b66b0403"
      },
      "execution_count": null,
      "outputs": [
        {
          "output_type": "display_data",
          "data": {
            "text/plain": [
              "<Figure size 640x480 with 1 Axes>"
            ],
            "image/png": "[encoded data removed]"
          },
          "metadata": {}
        }
      ]
    },
    {
      "cell_type": "markdown",
      "source": [
        "### Gráfico de Barras\n",
        "Neste exemplo, usamos o NumPy para criar um conjunto de valores e os representamos em um gráfico de barras."
      ],
      "metadata": {
        "id": "LhaVU02fg0SE"
      }
    },
    {
      "cell_type": "code",
      "source": [
        "# Dados de exemplo para gráfico de barras\n",
        "labels = ['A', 'B', 'C', 'D']\n",
        "values = np.array([23, 17, 35, 29])\n",
        "\n",
        "# Criar gráfico de barras\n",
        "plt.bar(labels, values)\n",
        "plt.title(\"Gráfico de Barras\")\n",
        "plt.xlabel(\"Categorias\")\n",
        "plt.ylabel(\"Valores\")\n",
        "plt.show()\n"
      ],
      "metadata": {
        "id": "oVF0PqEEgvCG",
        "colab": {
          "base_uri": "https://localhost:8080/",
          "height": 492
        },
        "outputId": "22d6f90a-5038-461e-f560-4d9e812d1057"
      },
      "execution_count": null,
      "outputs": [
        {
          "output_type": "display_data",
          "data": {
            "text/plain": [
              "<Figure size 640x480 with 1 Axes>"
            ],
            "image/png": "[encoded data removed]"
          },
          "metadata": {}
        }
      ]
    },
    {
      "cell_type": "markdown",
      "source": [
        "# Quer aprender mais?\n",
        "\n",
        "Confira o livro Dominando Python: 100+ Exercícios Resolvidos e Comentados para Acelerar seu Aprendizado\n",
        "\n",
        "* [E-book](https://a.co/d/2ePIZXV)\n",
        "\n",
        "* [Livro Físico](https://loja.uiclap.com/titulo/ua37267/)"
      ],
      "metadata": {
        "id": "5tTEF6JHhpA5"
      }
    }
  ]
}