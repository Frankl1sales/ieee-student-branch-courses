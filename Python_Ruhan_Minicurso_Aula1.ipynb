{
  "nbformat": 4,
  "nbformat_minor": 0,
  "metadata": {
    "colab": {
      "provenance": [],
      "include_colab_link": true
    },
    "kernelspec": {
      "name": "python3",
      "display_name": "Python 3"
    },
    "language_info": {
      "name": "python"
    }
  },
  "cells": [
    {
      "cell_type": "markdown",
      "metadata": {
        "id": "view-in-github",
        "colab_type": "text"
      },
      "source": [
        "<a href=\"https://colab.research.google.com/github/Frankl1sales/ieee-student-branch-courses/blob/main/Python_Ruhan_Minicurso_Aula1.ipynb\" target=\"_parent\"><img src=\"https://colab.research.google.com/assets/colab-badge.svg\" alt=\"Open In Colab\"/></a>"
      ]
    },
    {
      "cell_type": "markdown",
      "source": [
        "# Introdução\n",
        "Sejam bem vindos ao minicurso de Python da *IEEE Student Branch UFPel*. Este é um minicurso de apenas duas aulas de 2h cada, onde serão apresentados os primeiros passos nesta incrível e poderosíssima linguagem de programação.\n",
        "\n",
        "##Python\n",
        "Python é uma linguagem de programação de alto nível, conhecida por sua sintaxe simples e fácil de aprender, tornando-a ideal para iniciantes e profissionais. Ela é interpretada e suporta múltiplos paradigmas, como programação orientada a objetos e funcional, além de ser amplamente usada em diversas áreas graças à sua grande variedade de bibliotecas e frameworks.\n",
        "\n",
        "Uma das aplicações mais populares de Python está no aprendizado de máquina (machine learning) e na ciência de dados, com bibliotecas como TensorFlow, Keras, scikit-learn e PyTorch, que facilitam o desenvolvimento de modelos de IA e análise de grandes volumes de dados. A simplicidade da linguagem e a vasta comunidade tornam Python a escolha ideal para esses campos.\n",
        "\n",
        "\n",
        "## Jupyter Notebook\n",
        "O **Jupyter Notebook** é uma aplicação web que permite criar e compartilhar documentos que contêm código, texto explicativo (markdown), visualizações, e outros tipos de conteúdo. Cada \"notebook\" é composto por células, que podem ser de código ou de texto. É amplamente utilizado em ciência de dados, aprendizado de máquina, e educação por permitir a execução passo a passo do código e a exibição dos resultados logo abaixo das células de código.\n",
        "\n",
        "## Google Colab\n",
        "O **Google Colab** (abreviação de Colaboratory) é uma versão online do Jupyter Notebook, hospedada na nuvem, criada pelo Google. Ele oferece um ambiente de desenvolvimento integrado (IDE) onde você pode escrever e executar código Python diretamente em seu navegador. É gratuito e vem pré-configurado com várias bibliotecas populares, como NumPy, Pandas, TensorFlow e PyTorch, o que facilita o trabalho sem precisar configurar nada localmente.\n",
        "\n",
        "#### Principais Características\n",
        "* **Execução na Nuvem:** O Colab roda em servidores do Google, o que significa que você pode usar máquinas poderosas, incluindo GPUs e TPUs, para acelerar o processamento de código pesado, como em modelos de machine learning.\n",
        "* **Compartilhamento Simples:** Como um arquivo do Google Drive, você pode compartilhar seus notebooks com outras pessoas facilmente. Ele permite colaboração em tempo real, onde vários usuários podem trabalhar no mesmo notebook simultaneamente.\n",
        "* **Integração com Google Drive:** Você pode montar seu Google Drive dentro do Colab para carregar ou salvar arquivos diretamente.\n",
        "* **Sem Configuração:** Como é baseado na web, não há necessidade de configurar nada localmente. Basta acessar o Colab e começar a programar."
      ],
      "metadata": {
        "id": "9rS-FH91RE2y"
      }
    },
    {
      "cell_type": "markdown",
      "source": [
        "# Função Print\n",
        "\n",
        "> *A função print() em Python é usada para exibir informações na saída padrão, como o console ou terminal. Ela permite exibir mensagens, valores de variáveis, resultados de cálculos e muito mais.*\n",
        "\n",
        "\n",
        "Abaixo, veja como utilizar a função print para escrever a frase **Olá Mundo** na tela. Clique no botão de play à esquerda da célula para executar."
      ],
      "metadata": {
        "id": "cw0PSEBjTXv0"
      }
    },
    {
      "cell_type": "code",
      "source": [
        "print(\"Olá Mundo\")"
      ],
      "metadata": {
        "id": "AKo8rvAOSZfF",
        "colab": {
          "base_uri": "https://localhost:8080/"
        },
        "outputId": "b194598b-70b5-4861-c145-b0a11e8dcb7f"
      },
      "execution_count": null,
      "outputs": [
        {
          "output_type": "stream",
          "name": "stdout",
          "text": [
            "Olá Mundo\n"
          ]
        }
      ]
    },
    {
      "cell_type": "markdown",
      "source": [
        "Também é possível escrever valor de variáveis utilizando a função print."
      ],
      "metadata": {
        "id": "iu_HahiAUiLk"
      }
    },
    {
      "cell_type": "code",
      "source": [
        "nome = \"Ruhan Conceição\"\n",
        "print(nome)"
      ],
      "metadata": {
        "id": "E2RdidlJUrXn",
        "colab": {
          "base_uri": "https://localhost:8080/"
        },
        "outputId": "482c26ee-7de7-4b8c-be84-b95a7a85fac2"
      },
      "execution_count": null,
      "outputs": [
        {
          "output_type": "stream",
          "name": "stdout",
          "text": [
            "Ruhan Conceição\n"
          ]
        }
      ]
    },
    {
      "cell_type": "markdown",
      "source": [
        "No código anterior, **nome** é uma variável que armazena o valor \"Ruhan Conceição\".\n",
        "\n",
        "Uma variável em programação é um espaço de memória utilizado para armazenar um valor que pode ser acessado e manipulado ao longo da execução de um programa. Ela funciona como um nome associado a um dado, permitindo que o programador use esse nome para se referir ao valor armazenado. Por exemplo, ao declarar :**idade = 25**, a variável idade passa a armazenar o valor 25, que pode ser usado posteriormente no código. As variáveis facilitam a reutilização e modificação de dados, sendo essenciais para a criação de programas dinâmicos e interativos.\n",
        "\n",
        "No exemplo abaixo, vamos aprender e avançar alguns conceitos. Observe o código abaixo:"
      ],
      "metadata": {
        "id": "MYkFGqy8U4Kt"
      }
    },
    {
      "cell_type": "code",
      "source": [
        "nome = \"Ruhan\"\n",
        "idade = 32\n",
        "print(nome, idade)\n",
        "print(\"Meu nome é\", nome, \"e tenho\", idade, \"anos\")\n",
        "print(f\"Meu nome é {nome} e tenho {idade} anos\")"
      ],
      "metadata": {
        "id": "-7QGb602VUj1",
        "colab": {
          "base_uri": "https://localhost:8080/"
        },
        "outputId": "0b3ee4b2-acd7-46d4-e872-882769388481"
      },
      "execution_count": null,
      "outputs": [
        {
          "output_type": "stream",
          "name": "stdout",
          "text": [
            "Ruhan 32\n",
            "Meu nome é Ruhan e tenho 32 anos\n",
            "Meu nome é Ruhan e tenho 32 anos\n"
          ]
        }
      ]
    },
    {
      "cell_type": "markdown",
      "source": [
        "O código acima ilustra o uso de variáveis e diferentes formas de exibir informações com a função **print()** no Python.\n",
        "\n",
        "* Primeira Chamada do print(): `print(nome, idade)`: O comando print() exibe o conteúdo das variáveis nome e idade. Ao usar a vírgula, ele separa os valores com um espaço por padrão.\n",
        "\n",
        "* Segunda Chamada do print(): `print(\"Meu nome é\", nome, \"e tenho\", idade, \"anos\")`: Esse comando usa a vírgula para concatenar múltiplos elementos, incluindo strings fixas (como \"Meu nome é\" e \"e tenho\") e as variáveis nome e idade.\n",
        "\n",
        "* Terceira Chamada do print() com Formatação de Strings (f-string): `print(f\"Meu nome é {nome} e tenho {idade} anos\")`: Aqui, é usada a chamada f-string (formatação de strings), introduzida no Python 3.6. Ao colocar o **f** antes das aspas, podemos incluir as variáveis diretamente dentro das chaves {} dentro da string. O Python substitui as variáveis nome e idade por seus valores ao imprimir a mensagem.\n"
      ],
      "metadata": {
        "id": "L2hTPhhWWkjf"
      }
    },
    {
      "cell_type": "markdown",
      "source": [
        "**AGORA É COM VOCÊ!**\n",
        "Faça um código que escreva na tela o seu nome, e sua idade, seguindo o seguinte padrão:\n",
        "\n",
        "```\n",
        "Olá meu nome é Fulano de Tal e tenho 18 anos\n",
        "```\n",
        "\n",
        "Substitua os `None` pela sua resposta no código abaixo:\n",
        "\n",
        "\n"
      ],
      "metadata": {
        "id": "78FunYU2XwjO"
      }
    },
    {
      "cell_type": "code",
      "source": [
        "## EXERCÍCIO 1\n",
        "nome = None\n",
        "idade = None\n",
        "print(None)\n",
        "## FIM DO EXERCÍCIO 1"
      ],
      "metadata": {
        "id": "ncYLAlaJXwJt",
        "colab": {
          "base_uri": "https://localhost:8080/"
        },
        "outputId": "b631a56e-8e89-482a-bc2a-05041e1198e8"
      },
      "execution_count": null,
      "outputs": [
        {
          "output_type": "stream",
          "name": "stdout",
          "text": [
            "None\n"
          ]
        }
      ]
    },
    {
      "cell_type": "markdown",
      "source": [
        "# Função Input\n",
        "A função `input()` em Python é usada para capturar dados inseridos pelo usuário via teclado enquanto o programa está em execução. O valor retornado por `input()` é sempre uma string (texto), independentemente do que o usuário digitar. Se você precisar de outro tipo de dado, como um número, você deve fazer a conversão.\n",
        "\n",
        "**Sintaxe Básica**\n",
        "\n",
        "```\n",
        "variavel = input(\"Mensagem para o usuário: \")\n",
        "```\n",
        "* \"Mensagem para o usuário\": É uma string opcional que aparece como um prompt para o usuário, indicando o que ele deve digitar.\n",
        "* O valor inserido pelo usuário será armazenado na variável variavel.\n"
      ],
      "metadata": {
        "id": "mqP1gU_9ZDt6"
      }
    },
    {
      "cell_type": "code",
      "source": [
        "nome = input(\"Digite seu nome: \")\n",
        "print(\"Olá,\", nome)"
      ],
      "metadata": {
        "id": "8_tpQ4thYjN3",
        "colab": {
          "base_uri": "https://localhost:8080/"
        },
        "outputId": "82694cca-fb94-4aeb-d203-e1b928537bcf"
      },
      "execution_count": null,
      "outputs": [
        {
          "output_type": "stream",
          "name": "stdout",
          "text": [
            "Digite seu nome: f\n",
            "Olá, f\n"
          ]
        }
      ]
    },
    {
      "cell_type": "markdown",
      "source": [
        "Observe a seguinte questão. Insira números quando o sistema pedir os valores."
      ],
      "metadata": {
        "id": "9FFCmCw8ZexF"
      }
    },
    {
      "cell_type": "code",
      "source": [
        "a = input(\"Insira o primeiro valor: \")\n",
        "b = input(\"Insira o segundo valor: \")\n",
        "print(\"O resultado é:\",a + b)"
      ],
      "metadata": {
        "id": "511VbvWZZWiX",
        "colab": {
          "base_uri": "https://localhost:8080/"
        },
        "outputId": "f4b42679-f614-4b50-829a-f17459a2d25d"
      },
      "execution_count": null,
      "outputs": [
        {
          "output_type": "stream",
          "name": "stdout",
          "text": [
            "Insira o primeiro valor: 4\n",
            "Insira o segundo valor: 5\n",
            "O resultado é: 45\n"
          ]
        }
      ]
    },
    {
      "cell_type": "markdown",
      "source": [
        "Por padrão, o **input()** sempre retorna uma string. Se você precisar de um número (por exemplo, um inteiro ou um número com ponto flutuante), é necessário converter o valor usando **int()** ou **float()**.\n",
        "\n",
        "Veja o exemplo modificado abaixo.\n"
      ],
      "metadata": {
        "id": "tg5zXsc2Z_up"
      }
    },
    {
      "cell_type": "code",
      "source": [
        "a = int(input(\"Insira o primeiro valor: \"))\n",
        "b = int(input(\"Insira o segundo valor: \"))\n",
        "print(\"O resultado é:\",a + b)"
      ],
      "metadata": {
        "id": "VfdmMTxkZyR7",
        "colab": {
          "base_uri": "https://localhost:8080/"
        },
        "outputId": "5b861ade-3ca1-4e98-b041-5f650a9510f3"
      },
      "execution_count": null,
      "outputs": [
        {
          "output_type": "stream",
          "name": "stdout",
          "text": [
            "Insira o primeiro valor: 4\n",
            "Insira o segundo valor: 5\n",
            "O resultado é: 9\n"
          ]
        }
      ]
    },
    {
      "cell_type": "markdown",
      "source": [
        "**AGORA É COM VOCÊ!**\n",
        "Faça um código que leia o nome do usuário e a sua idade, e escreva os dados segundo o seguinte padrão:\n",
        "\n",
        "```\n",
        "Olá Fulano de Tal, você tem 18 anos\n",
        "```\n",
        "\n",
        "Substitua os `None` pela sua resposta no código abaixo:"
      ],
      "metadata": {
        "id": "4Lm2m2aIawj_"
      }
    },
    {
      "cell_type": "code",
      "source": [
        "## EXERCÍCIO 2\n",
        "nome = None #use input\n",
        "idade = None #use input\n",
        "print(None)\n",
        "## FIM DO EXERCÍCIO 2"
      ],
      "metadata": {
        "id": "1k52tJi8awNX",
        "colab": {
          "base_uri": "https://localhost:8080/"
        },
        "outputId": "50f6ca62-5722-4153-daaa-394ef037263e"
      },
      "execution_count": null,
      "outputs": [
        {
          "output_type": "stream",
          "name": "stdout",
          "text": [
            "None\n"
          ]
        }
      ]
    },
    {
      "cell_type": "markdown",
      "source": [
        "# Operações Matemáticas Simples\n",
        "\n",
        "\n",
        "\n",
        "> Python possui uma variedade de operadores matemáticos embutidos que permitem realizar várias operações matemáticas.\n",
        "\n",
        "### Operador de atribuição `=`\n",
        "Atribui um valor a uma variável\n",
        "\n",
        "```\n",
        "x = 5\n",
        "```\n",
        "\n",
        "### Operador de adição `+`\n",
        "Realiza a adição de dois valores\n",
        "\n",
        "```\n",
        "x = 5 + 3\n",
        "```\n",
        "\n",
        "### Operador de subtração `-`\n",
        "Realiza a subtração entre dois valores\n",
        "\n",
        "```\n",
        "x = 10 -*texto em itálico* 4\n",
        "```\n",
        "\n",
        "### Operador de multiplicação `*`\n",
        "Realiza a multiplicação entre dois valores\n",
        "\n",
        "```\n",
        "x = 3 * 4\n",
        "```\n",
        "\n",
        "### Operador de divisão `/`\n",
        "Realiza a divisão entre dois valores\n",
        "\n",
        "```\n",
        "x = 10 / 3\n",
        "```\n",
        "\n",
        "\n",
        "### Operador de divisão inteira `//`\n",
        "Realiza a divisão inteira entre dois valores\n",
        "\n",
        "```\n",
        "x = 10 // 3\n",
        "```\n",
        "\n",
        "### Operador de resto `%`\n",
        "Retorna o resto da divisão entre dois valores\n",
        "\n",
        "```\n",
        "x = 10 % 3\n",
        "```\n",
        "\n",
        "### Operador de exponenciação `**`\n",
        "Eleva um valor à potência de outro\n",
        "\n",
        "```\n",
        "x = 2 ** 3\n",
        "```"
      ],
      "metadata": {
        "id": "zml9hYcZ_-Gw"
      }
    },
    {
      "cell_type": "markdown",
      "source": [
        "**AGORA É COM VOCÊ!**\n",
        "Resolva o seguinte exercício:\n",
        "\n",
        "\n",
        "> Escreva um programa que solicite ao usuário dois números e exiba a soma, subtração, multiplicação e divisão entre eles\n",
        "\n"
      ],
      "metadata": {
        "id": "pE-x-YdHCPSz"
      }
    },
    {
      "cell_type": "code",
      "source": [
        "x = 10.5\n",
        "print(int(x))"
      ],
      "metadata": {
        "colab": {
          "base_uri": "https://localhost:8080/"
        },
        "id": "duYFAPCctgwH",
        "outputId": "0cf7346c-a0e5-45d2-e623-7755676cc066"
      },
      "execution_count": null,
      "outputs": [
        {
          "output_type": "stream",
          "name": "stdout",
          "text": [
            "10\n"
          ]
        }
      ]
    },
    {
      "cell_type": "code",
      "source": [
        "##EXERCÍCIO 3\n",
        "#Substitua os None pelo seu código\n",
        "\n",
        "num1 = float(input(\"digite um numero \")) #use input\n",
        "num2 = float(input(\"digite um numero \")) #use input\n",
        "\n",
        "soma = num1 + num2 #Faça a soma entre num1 e num2\n",
        "print(soma)#use print\n",
        "\n",
        "subtracao = num1 - num2 #Faça a subtracao entre num1 e num2\n",
        "print(subtracao)#use print\n",
        "\n",
        "multiplicacao = num1 * num2 #Faça a multiplicacao entre num1 e num2\n",
        "print(multiplicacao)#use print\n",
        "\n",
        "divisao = num1/num2 #Faça a divisao entre num1 e num2\n",
        "print(divisao)#use print\n",
        "## FIM DO EXERCÍCIO 3"
      ],
      "metadata": {
        "id": "qMcBfd6JACcQ",
        "colab": {
          "base_uri": "https://localhost:8080/"
        },
        "outputId": "e287b967-696b-46e9-e31f-1bc1a925542c"
      },
      "execution_count": null,
      "outputs": [
        {
          "output_type": "stream",
          "name": "stdout",
          "text": [
            "digite um numero 7\n",
            "digite um numero 6\n",
            "13.0\n",
            "1.0\n",
            "42.0\n",
            "1.1666666666666667\n"
          ]
        }
      ]
    },
    {
      "cell_type": "markdown",
      "source": [
        "**AGORA É COM VOCÊ!**\n",
        "Resolva o seguinte exercício:\n",
        "\n",
        "\n",
        "> Escreva um programa que calcule o IMC de um indivíduo, utilizando a fórmula IMC = peso / altura²\n"
      ],
      "metadata": {
        "id": "TQ8Ab59jDS4Q"
      }
    },
    {
      "cell_type": "code",
      "source": [
        "##EXERCÍCIO 4\n",
        "peso = 95\n",
        "altura = 1.76\n",
        "\n",
        "imc = peso / altura**2\n",
        "\n",
        "print(imc)\n",
        "##FIM DO EXERCÍCIO 4"
      ],
      "metadata": {
        "id": "OoiZwEWqDEsq",
        "colab": {
          "base_uri": "https://localhost:8080/"
        },
        "outputId": "e0130c4f-0c2e-4779-ec9e-a13aae768c78"
      },
      "execution_count": null,
      "outputs": [
        {
          "output_type": "stream",
          "name": "stdout",
          "text": [
            "30.668904958677686\n"
          ]
        }
      ]
    },
    {
      "cell_type": "markdown",
      "source": [
        "# Biblioteca Math\n",
        "\n",
        "> A biblioteca math é uma biblioteca padrão em Python que fornece funções matemáticas para realizar operações mais avançadas. Ela inclui uma ampla variedade de funções matemáticas, como trigonometria, logaritmos, exponenciais, funções hiperbólicas e muito mais. A biblioteca math é amplamente utilizada em cálculos matemáticos e científicos.\n",
        "\n",
        "Para utilizar a biblioteca math, você **precisa** importá-la no seu código."
      ],
      "metadata": {
        "id": "uW0V50usD2r5"
      }
    },
    {
      "cell_type": "code",
      "source": [
        "# Importando a biblioteca Math\n",
        "import math"
      ],
      "metadata": {
        "id": "cykszuBCDlRd"
      },
      "execution_count": null,
      "outputs": []
    },
    {
      "cell_type": "markdown",
      "source": [
        "Conhecendo algumas funções da biblioteca Math: \\\\\n",
        "\n",
        "```math.ceil(x): ```\n",
        "Essa função arredonda um número para cima, retornando o próximo número inteiro maior ou igual a ele.\n",
        "\n",
        "```math.floor(x):```\n",
        "Esse função serve para arredondar para baixo.\n",
        "\n",
        "```math.sqrt(x):```\n",
        "Essa função calcula a raiz quadrada de um número.\n",
        "\n",
        "```math.sin(x):```\n",
        "Para calcular o seno de um ângulo.\n",
        "\n",
        "```math.cos(x)```\n",
        "Para calcular o cosseno de um ângulo.\n",
        "\n",
        "```math.log(x)```\n",
        "Para calcular o logaritmo natural de um número\n",
        "\n",
        "```math.pi```\n",
        "Retorna a constante pi"
      ],
      "metadata": {
        "id": "HxnvvtcBEOr_"
      }
    },
    {
      "cell_type": "code",
      "source": [
        "x = 4.7\n",
        "x_ceil = math.ceil(x)\n",
        "x_floor = math.floor(x)\n",
        "y = math.sqrt(x_floor) #Raiz quadrada de 4, que é 2\n",
        "pi = math.pi\n",
        "\n",
        "print(f\"{x=}, {x_ceil=}, {x_floor=}, {y=}, {pi}\")"
      ],
      "metadata": {
        "id": "D3OlbxcoEOYe",
        "colab": {
          "base_uri": "https://localhost:8080/"
        },
        "outputId": "faa81b00-835d-4e26-863e-e689ec729f99"
      },
      "execution_count": null,
      "outputs": [
        {
          "output_type": "stream",
          "name": "stdout",
          "text": [
            "x=4.7, x_ceil=5, x_floor=4, y=2.0, 3.141592653589793\n"
          ]
        }
      ]
    },
    {
      "cell_type": "markdown",
      "source": [
        "**AGORA É COM VOCÊ!**\n",
        "Resolva os seguintes exercício:\n",
        "\n",
        "> *Exercício 5*: Escreva um programa que calcule a área de um círculo a partir do raio, utilizando a fórmula A = πr²\n",
        "\n",
        "> *Exercício 6*: Escreva um programa que calcule o delta de uma equação de segundo grau (Δ = b² - 4ac)"
      ],
      "metadata": {
        "id": "MpdVoUalF7Gc"
      }
    },
    {
      "cell_type": "code",
      "source": [
        "##EXERCÍCIO 5 Escreva um programa que calcule a área de um círculo a partir do raio, utilizando a fórmula A = πr²\n",
        "raio = 7\n",
        "area = math.pi * raio**2\n",
        "print(\"Area: \", area)\n",
        "##FIM DO EXERCÍCIO"
      ],
      "metadata": {
        "id": "GklZNVoOFKcX",
        "colab": {
          "base_uri": "https://localhost:8080/"
        },
        "outputId": "ec46da65-1985-4bc6-d932-3c591a0ec73f"
      },
      "execution_count": null,
      "outputs": [
        {
          "output_type": "stream",
          "name": "stdout",
          "text": [
            "Area:  153.93804002589985\n"
          ]
        }
      ]
    },
    {
      "cell_type": "code",
      "source": [
        "##EXERCÍCIO 6 Escreva um programa que calcule o delta de uma equação de segundo grau (Δ = b² - 4ac)\n",
        "a = 1\n",
        "b = -5\n",
        "c = 6\n",
        "delta = b**2 - 4*a*c\n",
        "print(\"Delta: \", delta )\n",
        "##FIM DO EXERCÍCIO"
      ],
      "metadata": {
        "id": "uHiylWkOGd1S",
        "colab": {
          "base_uri": "https://localhost:8080/"
        },
        "outputId": "bba26508-6d7e-494a-ee45-56a7d4c47446"
      },
      "execution_count": null,
      "outputs": [
        {
          "output_type": "stream",
          "name": "stdout",
          "text": [
            "Delta:  1\n"
          ]
        }
      ]
    },
    {
      "cell_type": "markdown",
      "source": [
        "# Desafio Final\n",
        "\n",
        "> Escreva um programa que leia a posição x e y de dois pontos no plano cartesiano, e calcule a distância entre ambos"
      ],
      "metadata": {
        "id": "s73wn7cXGyYz"
      }
    },
    {
      "cell_type": "code",
      "source": [
        "#DESAFIO FINAL\n",
        "# Função para calcular a distância euclidiana\n",
        "def calcular_distancia(x1, y1, x2, y2):\n",
        "    return math.sqrt((x2 - x1)**2 + (y2 - y1)**2)\n",
        "\n",
        "# Solicita ao usuário as coordenadas dos dois pontos\n",
        "x1 = float(input(\"Digite a coordenada x do primeiro ponto: \"))\n",
        "y1 = float(input(\"Digite a coordenada y do primeiro ponto: \"))\n",
        "x2 = float(input(\"Digite a coordenada x do segundo ponto: \"))\n",
        "y2 = float(input(\"Digite a coordenada y do segundo ponto: \"))\n",
        "\n",
        "# Calcula a distância\n",
        "distancia = calcular_distancia(x1, y1, x2, y2)\n",
        "\n",
        "# Exibe o resultado\n",
        "print(f\"A distância entre os pontos ({x1}, {y1}) e ({x2}, {y2}) é {distancia:.2f}\")\n",
        "\n",
        "\n",
        "#FIM DO DESAFIO"
      ],
      "metadata": {
        "id": "ZpRdNlpoIX4Z",
        "colab": {
          "base_uri": "https://localhost:8080/"
        },
        "outputId": "caeb8da0-d876-48b4-94fb-9b90f6b5da08"
      },
      "execution_count": null,
      "outputs": [
        {
          "output_type": "stream",
          "name": "stdout",
          "text": [
            "Digite a coordenada x do primeiro ponto: 5\n",
            "Digite a coordenada y do primeiro ponto: 4\n",
            "Digite a coordenada x do segundo ponto: 6\n",
            "Digite a coordenada y do segundo ponto: 4\n",
            "A distância entre os pontos (5.0, 4.0) e (6.0, 4.0) é 1.00\n"
          ]
        }
      ]
    },
    {
      "cell_type": "markdown",
      "source": [
        "# Quer aprender mais?\n",
        "\n",
        "Confira o livro Dominando Python: 100+ Exercícios Resolvidos e Comentados para Acelerar seu Aprendizado\n",
        "\n",
        "* [E-book](https://a.co/d/2ePIZXV)\n",
        "\n",
        "* [Livro Físico](https://loja.uiclap.com/titulo/ua37267/)"
      ],
      "metadata": {
        "id": "B4NiWYbNHRpP"
      }
    }
  ]
}